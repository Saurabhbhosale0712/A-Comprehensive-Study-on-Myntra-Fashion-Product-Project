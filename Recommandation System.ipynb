{
 "cells": [
  {
   "cell_type": "markdown",
   "id": "cee2e820",
   "metadata": {},
   "source": [
    "# Recommend_products is based on (Individual_category, Price, Ratings,Reviews)"
   ]
  },
  {
   "cell_type": "code",
   "execution_count": 1,
   "id": "85b6c3f4",
   "metadata": {
    "scrolled": true
   },
   "outputs": [
    {
     "data": {
      "text/html": [
       "<div>\n",
       "<style scoped>\n",
       "    .dataframe tbody tr th:only-of-type {\n",
       "        vertical-align: middle;\n",
       "    }\n",
       "\n",
       "    .dataframe tbody tr th {\n",
       "        vertical-align: top;\n",
       "    }\n",
       "\n",
       "    .dataframe thead th {\n",
       "        text-align: right;\n",
       "    }\n",
       "</style>\n",
       "<table border=\"1\" class=\"dataframe\">\n",
       "  <thead>\n",
       "    <tr style=\"text-align: right;\">\n",
       "      <th></th>\n",
       "      <th>Product_id</th>\n",
       "      <th>BrandName</th>\n",
       "      <th>Category</th>\n",
       "      <th>Individual_category</th>\n",
       "      <th>category_by_Gender</th>\n",
       "      <th>OriginalPrice (in Rs)</th>\n",
       "      <th>Discount (in Rs)</th>\n",
       "      <th>Discount (in %)</th>\n",
       "      <th>Ratings</th>\n",
       "      <th>Reviews</th>\n",
       "      <th>SizeOption</th>\n",
       "      <th>Description</th>\n",
       "    </tr>\n",
       "  </thead>\n",
       "  <tbody>\n",
       "    <tr>\n",
       "      <th>0</th>\n",
       "      <td>2296012</td>\n",
       "      <td>Roadster</td>\n",
       "      <td>Bottom Wear</td>\n",
       "      <td>jeans</td>\n",
       "      <td>Men</td>\n",
       "      <td>1499.0</td>\n",
       "      <td>824.45</td>\n",
       "      <td>45</td>\n",
       "      <td>3.9</td>\n",
       "      <td>999</td>\n",
       "      <td>28, 30, 32, 34, 36</td>\n",
       "      <td>roadster men navy blue slim fit mid rise clean...</td>\n",
       "    </tr>\n",
       "    <tr>\n",
       "      <th>1</th>\n",
       "      <td>13780156</td>\n",
       "      <td>LOCOMOTIVE</td>\n",
       "      <td>Bottom Wear</td>\n",
       "      <td>track-pants</td>\n",
       "      <td>Men</td>\n",
       "      <td>1149.0</td>\n",
       "      <td>517.05</td>\n",
       "      <td>55</td>\n",
       "      <td>4.0</td>\n",
       "      <td>999</td>\n",
       "      <td>S, M, L, XL</td>\n",
       "      <td>locomotive men black  white solid slim fit tra...</td>\n",
       "    </tr>\n",
       "    <tr>\n",
       "      <th>2</th>\n",
       "      <td>11895958</td>\n",
       "      <td>Roadster</td>\n",
       "      <td>Topwear</td>\n",
       "      <td>shirts</td>\n",
       "      <td>Men</td>\n",
       "      <td>1399.0</td>\n",
       "      <td>629.55</td>\n",
       "      <td>55</td>\n",
       "      <td>4.3</td>\n",
       "      <td>999</td>\n",
       "      <td>38, 40, 42, 44, 46, 48</td>\n",
       "      <td>roadster men navy white  black geometric print...</td>\n",
       "    </tr>\n",
       "  </tbody>\n",
       "</table>\n",
       "</div>"
      ],
      "text/plain": [
       "   Product_id   BrandName     Category Individual_category category_by_Gender  \\\n",
       "0     2296012    Roadster  Bottom Wear               jeans                Men   \n",
       "1    13780156  LOCOMOTIVE  Bottom Wear         track-pants                Men   \n",
       "2    11895958    Roadster      Topwear              shirts                Men   \n",
       "\n",
       "   OriginalPrice (in Rs)  Discount (in Rs)  Discount (in %)  Ratings  Reviews  \\\n",
       "0                 1499.0            824.45               45      3.9      999   \n",
       "1                 1149.0            517.05               55      4.0      999   \n",
       "2                 1399.0            629.55               55      4.3      999   \n",
       "\n",
       "               SizeOption                                        Description  \n",
       "0      28, 30, 32, 34, 36  roadster men navy blue slim fit mid rise clean...  \n",
       "1             S, M, L, XL  locomotive men black  white solid slim fit tra...  \n",
       "2  38, 40, 42, 44, 46, 48  roadster men navy white  black geometric print...  "
      ]
     },
     "execution_count": 1,
     "metadata": {},
     "output_type": "execute_result"
    }
   ],
   "source": [
    "import pandas as pd\n",
    "import numpy as np\n",
    "data = pd.read_csv(r\"C:\\Downloads\\final data.csv\")\n",
    "data.head(3)"
   ]
  },
  {
   "cell_type": "code",
   "execution_count": 3,
   "id": "1193cddc",
   "metadata": {},
   "outputs": [
    {
     "name": "stdout",
     "output_type": "stream",
     "text": [
      "tshirts                23169\n",
      "tops                   15299\n",
      "dresses                13312\n",
      "jeans                  13293\n",
      "kurtas                 11769\n",
      "                       ...  \n",
      "scarves                    5\n",
      "necklace-and-chains        5\n",
      "harem-pants                2\n",
      "hair-accessory             1\n",
      "heels                      1\n",
      "Name: Individual_category, Length: 85, dtype: int64\n"
     ]
    }
   ],
   "source": [
    "# Extract the column containing the individual categories\n",
    "category_column = data['Individual_category']\n",
    "\n",
    "# Count the occurrences of each category\n",
    "category_counts = category_column.value_counts()\n",
    "\n",
    "# Print the category counts\n",
    "print(category_counts)"
   ]
  },
  {
   "cell_type": "code",
   "execution_count": null,
   "id": "e36385fa",
   "metadata": {},
   "outputs": [],
   "source": []
  },
  {
   "cell_type": "markdown",
   "id": "1cc18737",
   "metadata": {},
   "source": [
    "# Recommend_products based on (Ratings, Reviews, Price, Individual_category)"
   ]
  },
  {
   "cell_type": "code",
   "execution_count": 2,
   "id": "233c48a0",
   "metadata": {
    "scrolled": false
   },
   "outputs": [],
   "source": [
    "import pandas as pd\n",
    "\n",
    "# Load the shopping dataset\n",
    "data=pd.read_csv(r\"C:\\Downloads\\final data.csv\")\n",
    "\n",
    "# Calculate the weighted average score for each product and add it as a new column\n",
    "data[\"weighted_score\"] = data[\"Ratings\"] * data[\"Reviews\"] / data[\"OriginalPrice (in Rs)\"]\n",
    "\n",
    "# Define a function to recommend products based on rating, reviews, price, and category\n",
    "def recommend_products(rating, reviews, price, category):\n",
    "    # Filter the products based on the given rating, reviews, price, and category\n",
    "    filtered_products = data[\n",
    "        (data[\"Ratings\"] >= rating)\n",
    "        & (data[\"Reviews\"] >= reviews)\n",
    "        & (data[\"OriginalPrice (in Rs)\"] <= price)\n",
    "        & (data[\"Individual_category\"] == Individual_category)\n",
    "    ]\n",
    "\n",
    "    # Sort the filtered products by weighted score in descending order\n",
    "    filtered_products = filtered_products.sort_values(by=\"weighted_score\", ascending=False)\n",
    "\n",
    "    # Return the top 10 recommended products\n",
    "    return filtered_products.head(10)"
   ]
  },
  {
   "cell_type": "code",
   "execution_count": 3,
   "id": "8e8b8789",
   "metadata": {},
   "outputs": [
    {
     "name": "stdout",
     "output_type": "stream",
     "text": [
      "      Product_id        BrandName Category Individual_category  \\\n",
      "5        2490950   Mast & Harbour  Western                tops   \n",
      "414     11373682         Roadster  Western                tops   \n",
      "1585     8330195         Roadster  Western                tops   \n",
      "730      2490953   Mast & Harbour  Western                tops   \n",
      "1187    11373642         Roadster  Western                tops   \n",
      "380     11735666  her by invictus  Western                tops   \n",
      "1336     2490952   Mast & Harbour  Western                tops   \n",
      "713       807931         La Zoire  Western                tops   \n",
      "276     12009564    Tokyo Talkies  Western                tops   \n",
      "1628    10964506         Roadster  Western                tops   \n",
      "\n",
      "     category_by_Gender  OriginalPrice (in Rs)  Discount (in Rs)  \\\n",
      "5                 Women                  599.0            359.40   \n",
      "414               Women                  599.0            269.55   \n",
      "1585              Women                  499.0            299.40   \n",
      "730               Women                  599.0            329.45   \n",
      "1187              Women                  599.0            239.60   \n",
      "380               Women                  699.0            349.50   \n",
      "1336              Women                  599.0            359.40   \n",
      "713               Women                  699.0            559.20   \n",
      "276               Women                  799.0            423.47   \n",
      "1628              Women                  599.0            329.45   \n",
      "\n",
      "      Discount (in %)  Ratings  Reviews        SizeOption  \\\n",
      "5                  40      4.4      999   XS, S, M, L, XL   \n",
      "414                55      4.2      918   XS, S, M, L, XL   \n",
      "1585               40      4.2      749   XS, S, M, L, XL   \n",
      "730                45      4.2      866   XS, S, M, L, XL   \n",
      "1187               60      4.5      798   XS, S, M, L, XL   \n",
      "380                50      4.3      925  S, M, L, XL, XXL   \n",
      "1336               40      4.3      782   XS, S, M, L, XL   \n",
      "713                20      4.3      868       S, M, L, XL   \n",
      "276                47      4.4      946       S, M, L, XL   \n",
      "1628               45      4.2      742   XS, S, M, L, XL   \n",
      "\n",
      "                                            Description  weighted_score  \n",
      "5             mast  harbour women yellow solid tank top        7.338230  \n",
      "414   roadster women white  black solid a line pure ...        6.436728  \n",
      "1585  roadster women mustard yellow styled back pure...        6.304208  \n",
      "730                 mast  harbour women black solid top        6.072120  \n",
      "1187  roadster women black  white solid a line pure ...        5.994992  \n",
      "380   her by invictus navy blue  white floral pleate...        5.690272  \n",
      "1336            mast  harbour women pink solid tank top        5.613689  \n",
      "713                    la zoire green sheer knotted top        5.339628  \n",
      "276   tokyo talkies navy blue  white vertical stripe...        5.209512  \n",
      "1628  the roadster lifestyle co women mustard yellow...        5.202671  \n"
     ]
    }
   ],
   "source": [
    "# Example usage\n",
    "Ratings = 4\n",
    "Reviews = 500\n",
    "Price = 1000\n",
    "Individual_category = \"tops\"  # Replace with the desired category\n",
    "\n",
    "recommended_products = recommend_products(Ratings, Reviews, Price, Individual_category)\n",
    "\n",
    "# Print the recommended products\n",
    "print(recommended_products)"
   ]
  },
  {
   "cell_type": "code",
   "execution_count": null,
   "id": "fe8a259b",
   "metadata": {},
   "outputs": [],
   "source": []
  }
 ],
 "metadata": {
  "kernelspec": {
   "display_name": "Python 3 (ipykernel)",
   "language": "python",
   "name": "python3"
  },
  "language_info": {
   "codemirror_mode": {
    "name": "ipython",
    "version": 3
   },
   "file_extension": ".py",
   "mimetype": "text/x-python",
   "name": "python",
   "nbconvert_exporter": "python",
   "pygments_lexer": "ipython3",
   "version": "3.9.7"
  }
 },
 "nbformat": 4,
 "nbformat_minor": 5
}
